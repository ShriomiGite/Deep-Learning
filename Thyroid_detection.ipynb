{
  "nbformat": 4,
  "nbformat_minor": 0,
  "metadata": {
    "colab": {
      "provenance": [],
      "authorship_tag": "ABX9TyMDl2UUXHWcjsWsldEKd3fT",
      "include_colab_link": true
    },
    "kernelspec": {
      "name": "python3",
      "display_name": "Python 3"
    },
    "language_info": {
      "name": "python"
    }
  },
  "cells": [
    {
      "cell_type": "markdown",
      "metadata": {
        "id": "view-in-github",
        "colab_type": "text"
      },
      "source": [
        "<a href=\"https://colab.research.google.com/github/ShriomiGite/Deep-Learning/blob/main/Thyroid_detection.ipynb\" target=\"_parent\"><img src=\"https://colab.research.google.com/assets/colab-badge.svg\" alt=\"Open In Colab\"/></a>"
      ]
    },
    {
      "cell_type": "code",
      "execution_count": 63,
      "metadata": {
        "id": "fllTGz8CuPlp"
      },
      "outputs": [],
      "source": [
        "import pandas as pd\n",
        "import numpy as np\n",
        "import matplotlib.pyplot as plt\n",
        "import seaborn as sns\n",
        "\n",
        "import warnings\n",
        "warnings.filterwarnings(\"ignore\")\n",
        "\n",
        "from keras.models import Sequential\n",
        "from keras.layers import Dense\n",
        "from keras.layers import Dropout\n",
        "from sklearn.preprocessing import StandardScaler, LabelEncoder\n",
        "from sklearn.model_selection import train_test_split\n",
        "from sklearn.metrics import classification_report\n"
      ]
    },
    {
      "cell_type": "code",
      "source": [
        "df=pd.read_csv(\"hypothyroid.csv\")\n",
        "df.head()"
      ],
      "metadata": {
        "colab": {
          "base_uri": "https://localhost:8080/",
          "height": 334
        },
        "id": "39O58Gamu3c1",
        "outputId": "eb76997e-0d90-4851-e2f3-00fcce68dab5"
      },
      "execution_count": 23,
      "outputs": [
        {
          "output_type": "execute_result",
          "data": {
            "text/plain": [
              "  age sex on thyroxine query on thyroxine on antithyroid medication sick  \\\n",
              "0  41   F            f                  f                         f    f   \n",
              "1  23   F            f                  f                         f    f   \n",
              "2  46   M            f                  f                         f    f   \n",
              "3  70   F            t                  f                         f    f   \n",
              "4  70   F            f                  f                         f    f   \n",
              "\n",
              "  pregnant thyroid surgery I131 treatment query hypothyroid  ... TT4 measured  \\\n",
              "0        f               f              f                 f  ...            t   \n",
              "1        f               f              f                 f  ...            t   \n",
              "2        f               f              f                 f  ...            t   \n",
              "3        f               f              f                 f  ...            t   \n",
              "4        f               f              f                 f  ...            t   \n",
              "\n",
              "   TT4 T4U measured   T4U FTI measured  FTI TBG measured TBG referral source  \\\n",
              "0  125            t  1.14            t  109            f   ?            SVHC   \n",
              "1  102            f     ?            f    ?            f   ?           other   \n",
              "2  109            t  0.91            t  120            f   ?           other   \n",
              "3  175            f     ?            f    ?            f   ?           other   \n",
              "4   61            t  0.87            t   70            f   ?             SVI   \n",
              "\n",
              "  binaryClass  \n",
              "0           P  \n",
              "1           P  \n",
              "2           P  \n",
              "3           P  \n",
              "4           P  \n",
              "\n",
              "[5 rows x 30 columns]"
            ],
            "text/html": [
              "\n",
              "  <div id=\"df-8e2d6f80-ebc4-4b10-8736-19dee264d410\">\n",
              "    <div class=\"colab-df-container\">\n",
              "      <div>\n",
              "<style scoped>\n",
              "    .dataframe tbody tr th:only-of-type {\n",
              "        vertical-align: middle;\n",
              "    }\n",
              "\n",
              "    .dataframe tbody tr th {\n",
              "        vertical-align: top;\n",
              "    }\n",
              "\n",
              "    .dataframe thead th {\n",
              "        text-align: right;\n",
              "    }\n",
              "</style>\n",
              "<table border=\"1\" class=\"dataframe\">\n",
              "  <thead>\n",
              "    <tr style=\"text-align: right;\">\n",
              "      <th></th>\n",
              "      <th>age</th>\n",
              "      <th>sex</th>\n",
              "      <th>on thyroxine</th>\n",
              "      <th>query on thyroxine</th>\n",
              "      <th>on antithyroid medication</th>\n",
              "      <th>sick</th>\n",
              "      <th>pregnant</th>\n",
              "      <th>thyroid surgery</th>\n",
              "      <th>I131 treatment</th>\n",
              "      <th>query hypothyroid</th>\n",
              "      <th>...</th>\n",
              "      <th>TT4 measured</th>\n",
              "      <th>TT4</th>\n",
              "      <th>T4U measured</th>\n",
              "      <th>T4U</th>\n",
              "      <th>FTI measured</th>\n",
              "      <th>FTI</th>\n",
              "      <th>TBG measured</th>\n",
              "      <th>TBG</th>\n",
              "      <th>referral source</th>\n",
              "      <th>binaryClass</th>\n",
              "    </tr>\n",
              "  </thead>\n",
              "  <tbody>\n",
              "    <tr>\n",
              "      <th>0</th>\n",
              "      <td>41</td>\n",
              "      <td>F</td>\n",
              "      <td>f</td>\n",
              "      <td>f</td>\n",
              "      <td>f</td>\n",
              "      <td>f</td>\n",
              "      <td>f</td>\n",
              "      <td>f</td>\n",
              "      <td>f</td>\n",
              "      <td>f</td>\n",
              "      <td>...</td>\n",
              "      <td>t</td>\n",
              "      <td>125</td>\n",
              "      <td>t</td>\n",
              "      <td>1.14</td>\n",
              "      <td>t</td>\n",
              "      <td>109</td>\n",
              "      <td>f</td>\n",
              "      <td>?</td>\n",
              "      <td>SVHC</td>\n",
              "      <td>P</td>\n",
              "    </tr>\n",
              "    <tr>\n",
              "      <th>1</th>\n",
              "      <td>23</td>\n",
              "      <td>F</td>\n",
              "      <td>f</td>\n",
              "      <td>f</td>\n",
              "      <td>f</td>\n",
              "      <td>f</td>\n",
              "      <td>f</td>\n",
              "      <td>f</td>\n",
              "      <td>f</td>\n",
              "      <td>f</td>\n",
              "      <td>...</td>\n",
              "      <td>t</td>\n",
              "      <td>102</td>\n",
              "      <td>f</td>\n",
              "      <td>?</td>\n",
              "      <td>f</td>\n",
              "      <td>?</td>\n",
              "      <td>f</td>\n",
              "      <td>?</td>\n",
              "      <td>other</td>\n",
              "      <td>P</td>\n",
              "    </tr>\n",
              "    <tr>\n",
              "      <th>2</th>\n",
              "      <td>46</td>\n",
              "      <td>M</td>\n",
              "      <td>f</td>\n",
              "      <td>f</td>\n",
              "      <td>f</td>\n",
              "      <td>f</td>\n",
              "      <td>f</td>\n",
              "      <td>f</td>\n",
              "      <td>f</td>\n",
              "      <td>f</td>\n",
              "      <td>...</td>\n",
              "      <td>t</td>\n",
              "      <td>109</td>\n",
              "      <td>t</td>\n",
              "      <td>0.91</td>\n",
              "      <td>t</td>\n",
              "      <td>120</td>\n",
              "      <td>f</td>\n",
              "      <td>?</td>\n",
              "      <td>other</td>\n",
              "      <td>P</td>\n",
              "    </tr>\n",
              "    <tr>\n",
              "      <th>3</th>\n",
              "      <td>70</td>\n",
              "      <td>F</td>\n",
              "      <td>t</td>\n",
              "      <td>f</td>\n",
              "      <td>f</td>\n",
              "      <td>f</td>\n",
              "      <td>f</td>\n",
              "      <td>f</td>\n",
              "      <td>f</td>\n",
              "      <td>f</td>\n",
              "      <td>...</td>\n",
              "      <td>t</td>\n",
              "      <td>175</td>\n",
              "      <td>f</td>\n",
              "      <td>?</td>\n",
              "      <td>f</td>\n",
              "      <td>?</td>\n",
              "      <td>f</td>\n",
              "      <td>?</td>\n",
              "      <td>other</td>\n",
              "      <td>P</td>\n",
              "    </tr>\n",
              "    <tr>\n",
              "      <th>4</th>\n",
              "      <td>70</td>\n",
              "      <td>F</td>\n",
              "      <td>f</td>\n",
              "      <td>f</td>\n",
              "      <td>f</td>\n",
              "      <td>f</td>\n",
              "      <td>f</td>\n",
              "      <td>f</td>\n",
              "      <td>f</td>\n",
              "      <td>f</td>\n",
              "      <td>...</td>\n",
              "      <td>t</td>\n",
              "      <td>61</td>\n",
              "      <td>t</td>\n",
              "      <td>0.87</td>\n",
              "      <td>t</td>\n",
              "      <td>70</td>\n",
              "      <td>f</td>\n",
              "      <td>?</td>\n",
              "      <td>SVI</td>\n",
              "      <td>P</td>\n",
              "    </tr>\n",
              "  </tbody>\n",
              "</table>\n",
              "<p>5 rows × 30 columns</p>\n",
              "</div>\n",
              "      <button class=\"colab-df-convert\" onclick=\"convertToInteractive('df-8e2d6f80-ebc4-4b10-8736-19dee264d410')\"\n",
              "              title=\"Convert this dataframe to an interactive table.\"\n",
              "              style=\"display:none;\">\n",
              "        \n",
              "  <svg xmlns=\"http://www.w3.org/2000/svg\" height=\"24px\"viewBox=\"0 0 24 24\"\n",
              "       width=\"24px\">\n",
              "    <path d=\"M0 0h24v24H0V0z\" fill=\"none\"/>\n",
              "    <path d=\"M18.56 5.44l.94 2.06.94-2.06 2.06-.94-2.06-.94-.94-2.06-.94 2.06-2.06.94zm-11 1L8.5 8.5l.94-2.06 2.06-.94-2.06-.94L8.5 2.5l-.94 2.06-2.06.94zm10 10l.94 2.06.94-2.06 2.06-.94-2.06-.94-.94-2.06-.94 2.06-2.06.94z\"/><path d=\"M17.41 7.96l-1.37-1.37c-.4-.4-.92-.59-1.43-.59-.52 0-1.04.2-1.43.59L10.3 9.45l-7.72 7.72c-.78.78-.78 2.05 0 2.83L4 21.41c.39.39.9.59 1.41.59.51 0 1.02-.2 1.41-.59l7.78-7.78 2.81-2.81c.8-.78.8-2.07 0-2.86zM5.41 20L4 18.59l7.72-7.72 1.47 1.35L5.41 20z\"/>\n",
              "  </svg>\n",
              "      </button>\n",
              "      \n",
              "  <style>\n",
              "    .colab-df-container {\n",
              "      display:flex;\n",
              "      flex-wrap:wrap;\n",
              "      gap: 12px;\n",
              "    }\n",
              "\n",
              "    .colab-df-convert {\n",
              "      background-color: #E8F0FE;\n",
              "      border: none;\n",
              "      border-radius: 50%;\n",
              "      cursor: pointer;\n",
              "      display: none;\n",
              "      fill: #1967D2;\n",
              "      height: 32px;\n",
              "      padding: 0 0 0 0;\n",
              "      width: 32px;\n",
              "    }\n",
              "\n",
              "    .colab-df-convert:hover {\n",
              "      background-color: #E2EBFA;\n",
              "      box-shadow: 0px 1px 2px rgba(60, 64, 67, 0.3), 0px 1px 3px 1px rgba(60, 64, 67, 0.15);\n",
              "      fill: #174EA6;\n",
              "    }\n",
              "\n",
              "    [theme=dark] .colab-df-convert {\n",
              "      background-color: #3B4455;\n",
              "      fill: #D2E3FC;\n",
              "    }\n",
              "\n",
              "    [theme=dark] .colab-df-convert:hover {\n",
              "      background-color: #434B5C;\n",
              "      box-shadow: 0px 1px 3px 1px rgba(0, 0, 0, 0.15);\n",
              "      filter: drop-shadow(0px 1px 2px rgba(0, 0, 0, 0.3));\n",
              "      fill: #FFFFFF;\n",
              "    }\n",
              "  </style>\n",
              "\n",
              "      <script>\n",
              "        const buttonEl =\n",
              "          document.querySelector('#df-8e2d6f80-ebc4-4b10-8736-19dee264d410 button.colab-df-convert');\n",
              "        buttonEl.style.display =\n",
              "          google.colab.kernel.accessAllowed ? 'block' : 'none';\n",
              "\n",
              "        async function convertToInteractive(key) {\n",
              "          const element = document.querySelector('#df-8e2d6f80-ebc4-4b10-8736-19dee264d410');\n",
              "          const dataTable =\n",
              "            await google.colab.kernel.invokeFunction('convertToInteractive',\n",
              "                                                     [key], {});\n",
              "          if (!dataTable) return;\n",
              "\n",
              "          const docLinkHtml = 'Like what you see? Visit the ' +\n",
              "            '<a target=\"_blank\" href=https://colab.research.google.com/notebooks/data_table.ipynb>data table notebook</a>'\n",
              "            + ' to learn more about interactive tables.';\n",
              "          element.innerHTML = '';\n",
              "          dataTable['output_type'] = 'display_data';\n",
              "          await google.colab.output.renderOutput(dataTable, element);\n",
              "          const docLink = document.createElement('div');\n",
              "          docLink.innerHTML = docLinkHtml;\n",
              "          element.appendChild(docLink);\n",
              "        }\n",
              "      </script>\n",
              "    </div>\n",
              "  </div>\n",
              "  "
            ]
          },
          "metadata": {},
          "execution_count": 23
        }
      ]
    },
    {
      "cell_type": "code",
      "source": [
        "df=df.replace(\"f\",0)"
      ],
      "metadata": {
        "id": "zIDHbVFTu8JD"
      },
      "execution_count": 24,
      "outputs": []
    },
    {
      "cell_type": "code",
      "source": [
        "df=df.replace(\"t\",1)"
      ],
      "metadata": {
        "id": "7M5MKWbWvqhW"
      },
      "execution_count": 25,
      "outputs": []
    },
    {
      "cell_type": "code",
      "source": [
        "df.info()"
      ],
      "metadata": {
        "colab": {
          "base_uri": "https://localhost:8080/"
        },
        "id": "8y189MDewEUJ",
        "outputId": "88efb0a0-51b1-4ba3-cb5e-0c99def30986"
      },
      "execution_count": 26,
      "outputs": [
        {
          "output_type": "stream",
          "name": "stdout",
          "text": [
            "<class 'pandas.core.frame.DataFrame'>\n",
            "RangeIndex: 3772 entries, 0 to 3771\n",
            "Data columns (total 30 columns):\n",
            " #   Column                     Non-Null Count  Dtype \n",
            "---  ------                     --------------  ----- \n",
            " 0   age                        3772 non-null   object\n",
            " 1   sex                        3772 non-null   object\n",
            " 2   on thyroxine               3772 non-null   int64 \n",
            " 3   query on thyroxine         3772 non-null   int64 \n",
            " 4   on antithyroid medication  3772 non-null   int64 \n",
            " 5   sick                       3772 non-null   int64 \n",
            " 6   pregnant                   3772 non-null   int64 \n",
            " 7   thyroid surgery            3772 non-null   int64 \n",
            " 8   I131 treatment             3772 non-null   int64 \n",
            " 9   query hypothyroid          3772 non-null   int64 \n",
            " 10  query hyperthyroid         3772 non-null   int64 \n",
            " 11  lithium                    3772 non-null   int64 \n",
            " 12  goitre                     3772 non-null   int64 \n",
            " 13  tumor                      3772 non-null   int64 \n",
            " 14  hypopituitary              3772 non-null   int64 \n",
            " 15  psych                      3772 non-null   int64 \n",
            " 16  TSH measured               3772 non-null   int64 \n",
            " 17  TSH                        3772 non-null   object\n",
            " 18  T3 measured                3772 non-null   int64 \n",
            " 19  T3                         3772 non-null   object\n",
            " 20  TT4 measured               3772 non-null   int64 \n",
            " 21  TT4                        3772 non-null   object\n",
            " 22  T4U measured               3772 non-null   int64 \n",
            " 23  T4U                        3772 non-null   object\n",
            " 24  FTI measured               3772 non-null   int64 \n",
            " 25  FTI                        3772 non-null   object\n",
            " 26  TBG measured               3772 non-null   int64 \n",
            " 27  TBG                        3772 non-null   object\n",
            " 28  referral source            3772 non-null   object\n",
            " 29  binaryClass                3772 non-null   object\n",
            "dtypes: int64(20), object(10)\n",
            "memory usage: 884.2+ KB\n"
          ]
        }
      ]
    },
    {
      "cell_type": "code",
      "source": [
        "df.sex=df.sex.replace(\"M\",0)\n",
        "df.sex=df.sex.replace(\"F\",1)"
      ],
      "metadata": {
        "id": "OyJPHCY-wGav"
      },
      "execution_count": 27,
      "outputs": []
    },
    {
      "cell_type": "code",
      "source": [
        "df['referral source'].value_counts()"
      ],
      "metadata": {
        "colab": {
          "base_uri": "https://localhost:8080/"
        },
        "id": "WwOjFpEIwUj-",
        "outputId": "6445752c-33a0-4657-d736-93a1a40d5821"
      },
      "execution_count": 7,
      "outputs": [
        {
          "output_type": "execute_result",
          "data": {
            "text/plain": [
              "other    2201\n",
              "SVI      1034\n",
              "SVHC      386\n",
              "STMW      112\n",
              "SVHD       39\n",
              "Name: referral source, dtype: int64"
            ]
          },
          "metadata": {},
          "execution_count": 7
        }
      ]
    },
    {
      "cell_type": "code",
      "source": [
        "del df['referral source']"
      ],
      "metadata": {
        "id": "K3xW1skZwewG"
      },
      "execution_count": 28,
      "outputs": []
    },
    {
      "cell_type": "code",
      "source": [
        "df.TBG.value_counts()"
      ],
      "metadata": {
        "colab": {
          "base_uri": "https://localhost:8080/"
        },
        "id": "OawURPd0w5sU",
        "outputId": "8ce4e2f3-996b-4833-defa-0cf684c1f8cb"
      },
      "execution_count": 29,
      "outputs": [
        {
          "output_type": "execute_result",
          "data": {
            "text/plain": [
              "?    3772\n",
              "Name: TBG, dtype: int64"
            ]
          },
          "metadata": {},
          "execution_count": 29
        }
      ]
    },
    {
      "cell_type": "code",
      "source": [
        "del df[\"TBG\"]"
      ],
      "metadata": {
        "id": "pZILBSsQxB1v"
      },
      "execution_count": 30,
      "outputs": []
    },
    {
      "cell_type": "code",
      "source": [
        "df=df.drop(df[[\"FTI\",\"T4U\",\"TT4\",\"T3\",\"TSH\"]],axis=1)\n",
        "df.head()"
      ],
      "metadata": {
        "colab": {
          "base_uri": "https://localhost:8080/",
          "height": 334
        },
        "id": "Y-pHSkB4xFGo",
        "outputId": "ae1eddcb-426f-4c05-8dd1-f74ae0cf9abd"
      },
      "execution_count": 31,
      "outputs": [
        {
          "output_type": "execute_result",
          "data": {
            "text/plain": [
              "  age sex  on thyroxine  query on thyroxine  on antithyroid medication  sick  \\\n",
              "0  41   1             0                   0                          0     0   \n",
              "1  23   1             0                   0                          0     0   \n",
              "2  46   0             0                   0                          0     0   \n",
              "3  70   1             1                   0                          0     0   \n",
              "4  70   1             0                   0                          0     0   \n",
              "\n",
              "   pregnant  thyroid surgery  I131 treatment  query hypothyroid  ...  tumor  \\\n",
              "0         0                0               0                  0  ...      0   \n",
              "1         0                0               0                  0  ...      0   \n",
              "2         0                0               0                  0  ...      0   \n",
              "3         0                0               0                  0  ...      0   \n",
              "4         0                0               0                  0  ...      0   \n",
              "\n",
              "   hypopituitary  psych  TSH measured  T3 measured  TT4 measured  \\\n",
              "0              0      0             1            1             1   \n",
              "1              0      0             1            1             1   \n",
              "2              0      0             1            0             1   \n",
              "3              0      0             1            1             1   \n",
              "4              0      0             1            1             1   \n",
              "\n",
              "   T4U measured  FTI measured  TBG measured  binaryClass  \n",
              "0             1             1             0            P  \n",
              "1             0             0             0            P  \n",
              "2             1             1             0            P  \n",
              "3             0             0             0            P  \n",
              "4             1             1             0            P  \n",
              "\n",
              "[5 rows x 23 columns]"
            ],
            "text/html": [
              "\n",
              "  <div id=\"df-8d9bc404-75c6-458e-822e-e04fe8e0258f\">\n",
              "    <div class=\"colab-df-container\">\n",
              "      <div>\n",
              "<style scoped>\n",
              "    .dataframe tbody tr th:only-of-type {\n",
              "        vertical-align: middle;\n",
              "    }\n",
              "\n",
              "    .dataframe tbody tr th {\n",
              "        vertical-align: top;\n",
              "    }\n",
              "\n",
              "    .dataframe thead th {\n",
              "        text-align: right;\n",
              "    }\n",
              "</style>\n",
              "<table border=\"1\" class=\"dataframe\">\n",
              "  <thead>\n",
              "    <tr style=\"text-align: right;\">\n",
              "      <th></th>\n",
              "      <th>age</th>\n",
              "      <th>sex</th>\n",
              "      <th>on thyroxine</th>\n",
              "      <th>query on thyroxine</th>\n",
              "      <th>on antithyroid medication</th>\n",
              "      <th>sick</th>\n",
              "      <th>pregnant</th>\n",
              "      <th>thyroid surgery</th>\n",
              "      <th>I131 treatment</th>\n",
              "      <th>query hypothyroid</th>\n",
              "      <th>...</th>\n",
              "      <th>tumor</th>\n",
              "      <th>hypopituitary</th>\n",
              "      <th>psych</th>\n",
              "      <th>TSH measured</th>\n",
              "      <th>T3 measured</th>\n",
              "      <th>TT4 measured</th>\n",
              "      <th>T4U measured</th>\n",
              "      <th>FTI measured</th>\n",
              "      <th>TBG measured</th>\n",
              "      <th>binaryClass</th>\n",
              "    </tr>\n",
              "  </thead>\n",
              "  <tbody>\n",
              "    <tr>\n",
              "      <th>0</th>\n",
              "      <td>41</td>\n",
              "      <td>1</td>\n",
              "      <td>0</td>\n",
              "      <td>0</td>\n",
              "      <td>0</td>\n",
              "      <td>0</td>\n",
              "      <td>0</td>\n",
              "      <td>0</td>\n",
              "      <td>0</td>\n",
              "      <td>0</td>\n",
              "      <td>...</td>\n",
              "      <td>0</td>\n",
              "      <td>0</td>\n",
              "      <td>0</td>\n",
              "      <td>1</td>\n",
              "      <td>1</td>\n",
              "      <td>1</td>\n",
              "      <td>1</td>\n",
              "      <td>1</td>\n",
              "      <td>0</td>\n",
              "      <td>P</td>\n",
              "    </tr>\n",
              "    <tr>\n",
              "      <th>1</th>\n",
              "      <td>23</td>\n",
              "      <td>1</td>\n",
              "      <td>0</td>\n",
              "      <td>0</td>\n",
              "      <td>0</td>\n",
              "      <td>0</td>\n",
              "      <td>0</td>\n",
              "      <td>0</td>\n",
              "      <td>0</td>\n",
              "      <td>0</td>\n",
              "      <td>...</td>\n",
              "      <td>0</td>\n",
              "      <td>0</td>\n",
              "      <td>0</td>\n",
              "      <td>1</td>\n",
              "      <td>1</td>\n",
              "      <td>1</td>\n",
              "      <td>0</td>\n",
              "      <td>0</td>\n",
              "      <td>0</td>\n",
              "      <td>P</td>\n",
              "    </tr>\n",
              "    <tr>\n",
              "      <th>2</th>\n",
              "      <td>46</td>\n",
              "      <td>0</td>\n",
              "      <td>0</td>\n",
              "      <td>0</td>\n",
              "      <td>0</td>\n",
              "      <td>0</td>\n",
              "      <td>0</td>\n",
              "      <td>0</td>\n",
              "      <td>0</td>\n",
              "      <td>0</td>\n",
              "      <td>...</td>\n",
              "      <td>0</td>\n",
              "      <td>0</td>\n",
              "      <td>0</td>\n",
              "      <td>1</td>\n",
              "      <td>0</td>\n",
              "      <td>1</td>\n",
              "      <td>1</td>\n",
              "      <td>1</td>\n",
              "      <td>0</td>\n",
              "      <td>P</td>\n",
              "    </tr>\n",
              "    <tr>\n",
              "      <th>3</th>\n",
              "      <td>70</td>\n",
              "      <td>1</td>\n",
              "      <td>1</td>\n",
              "      <td>0</td>\n",
              "      <td>0</td>\n",
              "      <td>0</td>\n",
              "      <td>0</td>\n",
              "      <td>0</td>\n",
              "      <td>0</td>\n",
              "      <td>0</td>\n",
              "      <td>...</td>\n",
              "      <td>0</td>\n",
              "      <td>0</td>\n",
              "      <td>0</td>\n",
              "      <td>1</td>\n",
              "      <td>1</td>\n",
              "      <td>1</td>\n",
              "      <td>0</td>\n",
              "      <td>0</td>\n",
              "      <td>0</td>\n",
              "      <td>P</td>\n",
              "    </tr>\n",
              "    <tr>\n",
              "      <th>4</th>\n",
              "      <td>70</td>\n",
              "      <td>1</td>\n",
              "      <td>0</td>\n",
              "      <td>0</td>\n",
              "      <td>0</td>\n",
              "      <td>0</td>\n",
              "      <td>0</td>\n",
              "      <td>0</td>\n",
              "      <td>0</td>\n",
              "      <td>0</td>\n",
              "      <td>...</td>\n",
              "      <td>0</td>\n",
              "      <td>0</td>\n",
              "      <td>0</td>\n",
              "      <td>1</td>\n",
              "      <td>1</td>\n",
              "      <td>1</td>\n",
              "      <td>1</td>\n",
              "      <td>1</td>\n",
              "      <td>0</td>\n",
              "      <td>P</td>\n",
              "    </tr>\n",
              "  </tbody>\n",
              "</table>\n",
              "<p>5 rows × 23 columns</p>\n",
              "</div>\n",
              "      <button class=\"colab-df-convert\" onclick=\"convertToInteractive('df-8d9bc404-75c6-458e-822e-e04fe8e0258f')\"\n",
              "              title=\"Convert this dataframe to an interactive table.\"\n",
              "              style=\"display:none;\">\n",
              "        \n",
              "  <svg xmlns=\"http://www.w3.org/2000/svg\" height=\"24px\"viewBox=\"0 0 24 24\"\n",
              "       width=\"24px\">\n",
              "    <path d=\"M0 0h24v24H0V0z\" fill=\"none\"/>\n",
              "    <path d=\"M18.56 5.44l.94 2.06.94-2.06 2.06-.94-2.06-.94-.94-2.06-.94 2.06-2.06.94zm-11 1L8.5 8.5l.94-2.06 2.06-.94-2.06-.94L8.5 2.5l-.94 2.06-2.06.94zm10 10l.94 2.06.94-2.06 2.06-.94-2.06-.94-.94-2.06-.94 2.06-2.06.94z\"/><path d=\"M17.41 7.96l-1.37-1.37c-.4-.4-.92-.59-1.43-.59-.52 0-1.04.2-1.43.59L10.3 9.45l-7.72 7.72c-.78.78-.78 2.05 0 2.83L4 21.41c.39.39.9.59 1.41.59.51 0 1.02-.2 1.41-.59l7.78-7.78 2.81-2.81c.8-.78.8-2.07 0-2.86zM5.41 20L4 18.59l7.72-7.72 1.47 1.35L5.41 20z\"/>\n",
              "  </svg>\n",
              "      </button>\n",
              "      \n",
              "  <style>\n",
              "    .colab-df-container {\n",
              "      display:flex;\n",
              "      flex-wrap:wrap;\n",
              "      gap: 12px;\n",
              "    }\n",
              "\n",
              "    .colab-df-convert {\n",
              "      background-color: #E8F0FE;\n",
              "      border: none;\n",
              "      border-radius: 50%;\n",
              "      cursor: pointer;\n",
              "      display: none;\n",
              "      fill: #1967D2;\n",
              "      height: 32px;\n",
              "      padding: 0 0 0 0;\n",
              "      width: 32px;\n",
              "    }\n",
              "\n",
              "    .colab-df-convert:hover {\n",
              "      background-color: #E2EBFA;\n",
              "      box-shadow: 0px 1px 2px rgba(60, 64, 67, 0.3), 0px 1px 3px 1px rgba(60, 64, 67, 0.15);\n",
              "      fill: #174EA6;\n",
              "    }\n",
              "\n",
              "    [theme=dark] .colab-df-convert {\n",
              "      background-color: #3B4455;\n",
              "      fill: #D2E3FC;\n",
              "    }\n",
              "\n",
              "    [theme=dark] .colab-df-convert:hover {\n",
              "      background-color: #434B5C;\n",
              "      box-shadow: 0px 1px 3px 1px rgba(0, 0, 0, 0.15);\n",
              "      filter: drop-shadow(0px 1px 2px rgba(0, 0, 0, 0.3));\n",
              "      fill: #FFFFFF;\n",
              "    }\n",
              "  </style>\n",
              "\n",
              "      <script>\n",
              "        const buttonEl =\n",
              "          document.querySelector('#df-8d9bc404-75c6-458e-822e-e04fe8e0258f button.colab-df-convert');\n",
              "        buttonEl.style.display =\n",
              "          google.colab.kernel.accessAllowed ? 'block' : 'none';\n",
              "\n",
              "        async function convertToInteractive(key) {\n",
              "          const element = document.querySelector('#df-8d9bc404-75c6-458e-822e-e04fe8e0258f');\n",
              "          const dataTable =\n",
              "            await google.colab.kernel.invokeFunction('convertToInteractive',\n",
              "                                                     [key], {});\n",
              "          if (!dataTable) return;\n",
              "\n",
              "          const docLinkHtml = 'Like what you see? Visit the ' +\n",
              "            '<a target=\"_blank\" href=https://colab.research.google.com/notebooks/data_table.ipynb>data table notebook</a>'\n",
              "            + ' to learn more about interactive tables.';\n",
              "          element.innerHTML = '';\n",
              "          dataTable['output_type'] = 'display_data';\n",
              "          await google.colab.output.renderOutput(dataTable, element);\n",
              "          const docLink = document.createElement('div');\n",
              "          docLink.innerHTML = docLinkHtml;\n",
              "          element.appendChild(docLink);\n",
              "        }\n",
              "      </script>\n",
              "    </div>\n",
              "  </div>\n",
              "  "
            ]
          },
          "metadata": {},
          "execution_count": 31
        }
      ]
    },
    {
      "cell_type": "code",
      "source": [
        "df.sex.value_counts()"
      ],
      "metadata": {
        "colab": {
          "base_uri": "https://localhost:8080/"
        },
        "id": "GC-ut_Aex9n-",
        "outputId": "140739cf-67f9-4475-cffa-197c7f1c597e"
      },
      "execution_count": 33,
      "outputs": [
        {
          "output_type": "execute_result",
          "data": {
            "text/plain": [
              "1    2480\n",
              "0    1142\n",
              "?     150\n",
              "Name: sex, dtype: int64"
            ]
          },
          "metadata": {},
          "execution_count": 33
        }
      ]
    },
    {
      "cell_type": "code",
      "source": [
        "df.sex=df.sex.replace(\"?\",np.NaN)"
      ],
      "metadata": {
        "id": "oYFuP9n5ynNf"
      },
      "execution_count": 34,
      "outputs": []
    },
    {
      "cell_type": "code",
      "source": [
        "df.sex=df.sex.replace(np.NaN,df.sex.mean())"
      ],
      "metadata": {
        "id": "5qLIbEPmy2DI"
      },
      "execution_count": 35,
      "outputs": []
    },
    {
      "cell_type": "code",
      "source": [
        "df.age=df.age.replace(\"?\",np.NaN)\n"
      ],
      "metadata": {
        "id": "5W75os5ly5Jd"
      },
      "execution_count": 36,
      "outputs": []
    },
    {
      "cell_type": "code",
      "source": [
        "df.age.isnull().sum()"
      ],
      "metadata": {
        "colab": {
          "base_uri": "https://localhost:8080/"
        },
        "id": "Nb5dJu17zEU3",
        "outputId": "cc5c3799-9555-4c09-c516-f7bdd02179cb"
      },
      "execution_count": 37,
      "outputs": [
        {
          "output_type": "execute_result",
          "data": {
            "text/plain": [
              "1"
            ]
          },
          "metadata": {},
          "execution_count": 37
        }
      ]
    },
    {
      "cell_type": "code",
      "source": [
        "df=df.dropna()"
      ],
      "metadata": {
        "id": "Q0b5ueb6zamV"
      },
      "execution_count": 38,
      "outputs": []
    },
    {
      "cell_type": "code",
      "source": [
        "from math import floor\n",
        "df.sex=floor(df.sex.mean())"
      ],
      "metadata": {
        "id": "rVLekl0A0JoX"
      },
      "execution_count": 49,
      "outputs": []
    },
    {
      "cell_type": "code",
      "source": [
        "df.info()"
      ],
      "metadata": {
        "colab": {
          "base_uri": "https://localhost:8080/"
        },
        "id": "TjfWRByS1hkE",
        "outputId": "4690e21b-2154-4f64-b4c0-dc69b54e5cda"
      },
      "execution_count": 50,
      "outputs": [
        {
          "output_type": "stream",
          "name": "stdout",
          "text": [
            "<class 'pandas.core.frame.DataFrame'>\n",
            "Int64Index: 3771 entries, 0 to 3771\n",
            "Data columns (total 23 columns):\n",
            " #   Column                     Non-Null Count  Dtype \n",
            "---  ------                     --------------  ----- \n",
            " 0   age                        3771 non-null   object\n",
            " 1   sex                        3771 non-null   int64 \n",
            " 2   on thyroxine               3771 non-null   int64 \n",
            " 3   query on thyroxine         3771 non-null   int64 \n",
            " 4   on antithyroid medication  3771 non-null   int64 \n",
            " 5   sick                       3771 non-null   int64 \n",
            " 6   pregnant                   3771 non-null   int64 \n",
            " 7   thyroid surgery            3771 non-null   int64 \n",
            " 8   I131 treatment             3771 non-null   int64 \n",
            " 9   query hypothyroid          3771 non-null   int64 \n",
            " 10  query hyperthyroid         3771 non-null   int64 \n",
            " 11  lithium                    3771 non-null   int64 \n",
            " 12  goitre                     3771 non-null   int64 \n",
            " 13  tumor                      3771 non-null   int64 \n",
            " 14  hypopituitary              3771 non-null   int64 \n",
            " 15  psych                      3771 non-null   int64 \n",
            " 16  TSH measured               3771 non-null   int64 \n",
            " 17  T3 measured                3771 non-null   int64 \n",
            " 18  TT4 measured               3771 non-null   int64 \n",
            " 19  T4U measured               3771 non-null   int64 \n",
            " 20  FTI measured               3771 non-null   int64 \n",
            " 21  TBG measured               3771 non-null   int64 \n",
            " 22  binaryClass                3771 non-null   object\n",
            "dtypes: int64(21), object(2)\n",
            "memory usage: 707.1+ KB\n"
          ]
        }
      ]
    },
    {
      "cell_type": "code",
      "source": [
        "sns.countplot(x=\"binaryClass\",data=df)"
      ],
      "metadata": {
        "colab": {
          "base_uri": "https://localhost:8080/",
          "height": 467
        },
        "id": "4LqH7rF996pZ",
        "outputId": "b7311d53-122c-4e3b-e888-d143143a8957"
      },
      "execution_count": 81,
      "outputs": [
        {
          "output_type": "execute_result",
          "data": {
            "text/plain": [
              "<Axes: xlabel='binaryClass', ylabel='count'>"
            ]
          },
          "metadata": {},
          "execution_count": 81
        },
        {
          "output_type": "display_data",
          "data": {
            "text/plain": [
              "<Figure size 640x480 with 1 Axes>"
            ],
            "image/png": "[encoded data removed]"
          },
          "metadata": {}
        }
      ]
    },
    {
      "cell_type": "code",
      "source": [
        "x=df.iloc[:,:-1]\n",
        "y=df.iloc[:,-1]"
      ],
      "metadata": {
        "id": "n6vipLmK3WF_"
      },
      "execution_count": 59,
      "outputs": []
    },
    {
      "cell_type": "code",
      "source": [
        "le=LabelEncoder()\n",
        "y=le.fit_transform(y)"
      ],
      "metadata": {
        "id": "YrGKiHcE4gl6"
      },
      "execution_count": 60,
      "outputs": []
    },
    {
      "cell_type": "code",
      "source": [
        "sc=StandardScaler()\n",
        "x=sc.fit_transform(x)"
      ],
      "metadata": {
        "id": "tVLUyiMh4lc6"
      },
      "execution_count": 61,
      "outputs": []
    },
    {
      "cell_type": "code",
      "source": [
        "xtrain,xtest,ytrain,ytest=train_test_split(x,y,test_size=0.3,random_state=1)"
      ],
      "metadata": {
        "id": "F1b4zf4q4qrO"
      },
      "execution_count": 62,
      "outputs": []
    },
    {
      "cell_type": "code",
      "source": [
        "ann=Sequential()\n",
        "\n",
        "ann.add(Dense(units=250,activation=\"tanh\"))\n",
        "ann.add(Dropout(rate=0.5))\n",
        "\n",
        "ann.add(Dense(units=150,activation=\"tanh\"))\n",
        "ann.add(Dropout(rate=0.4))\n",
        "\n",
        "ann.add(Dense(units=70,activation=\"tanh\"))\n",
        "ann.add(Dropout(rate=0.3))\n",
        "\n",
        "ann.add(Dense(units=1,activation=\"sigmoid\"))\n",
        "\n",
        "ann.compile(optimizer=\"adam\",loss=\"binary_crossentropy\",metrics=[\"accuracy\"])"
      ],
      "metadata": {
        "id": "Jf0K22Wn4uHV"
      },
      "execution_count": 76,
      "outputs": []
    },
    {
      "cell_type": "code",
      "source": [
        "#to add early stopping for getting less error points\n",
        "from keras.callbacks import EarlyStopping\n",
        "earlystop=EarlyStopping(monitor=\"val_loss\",mode=\"min\",verbose=1,patience=30)\n",
        "ann.fit(xtrain,ytrain,epochs=300,validation_data=(xtest,ytest),callbacks=earlystop,batch_size=62)"
      ],
      "metadata": {
        "colab": {
          "base_uri": "https://localhost:8080/"
        },
        "id": "XcGx5o_j6FjH",
        "outputId": "c67246e2-989c-45fc-e40b-3675ea68fd82"
      },
      "execution_count": 77,
      "outputs": [
        {
          "output_type": "stream",
          "name": "stdout",
          "text": [
            "Epoch 1/300\n",
            "43/43 [==============================] - 2s 10ms/step - loss: 0.5042 - accuracy: 0.7685 - val_loss: 0.3406 - val_accuracy: 0.8816\n",
            "Epoch 2/300\n",
            "43/43 [==============================] - 0s 6ms/step - loss: 0.3089 - accuracy: 0.9019 - val_loss: 0.3088 - val_accuracy: 0.9081\n",
            "Epoch 3/300\n",
            "43/43 [==============================] - 0s 6ms/step - loss: 0.2814 - accuracy: 0.9227 - val_loss: 0.3157 - val_accuracy: 0.9081\n",
            "Epoch 4/300\n",
            "43/43 [==============================] - 0s 6ms/step - loss: 0.2649 - accuracy: 0.9250 - val_loss: 0.3136 - val_accuracy: 0.9081\n",
            "Epoch 5/300\n",
            "43/43 [==============================] - 0s 6ms/step - loss: 0.2637 - accuracy: 0.9250 - val_loss: 0.3254 - val_accuracy: 0.9081\n",
            "Epoch 6/300\n",
            "43/43 [==============================] - 0s 7ms/step - loss: 0.2579 - accuracy: 0.9265 - val_loss: 0.3251 - val_accuracy: 0.9081\n",
            "Epoch 7/300\n",
            "43/43 [==============================] - 0s 6ms/step - loss: 0.2665 - accuracy: 0.9242 - val_loss: 0.3249 - val_accuracy: 0.9081\n",
            "Epoch 8/300\n",
            "43/43 [==============================] - 0s 6ms/step - loss: 0.2566 - accuracy: 0.9272 - val_loss: 0.3148 - val_accuracy: 0.9081\n",
            "Epoch 9/300\n",
            "43/43 [==============================] - 0s 7ms/step - loss: 0.2585 - accuracy: 0.9269 - val_loss: 0.3203 - val_accuracy: 0.9081\n",
            "Epoch 10/300\n",
            "43/43 [==============================] - 0s 6ms/step - loss: 0.2588 - accuracy: 0.9280 - val_loss: 0.3140 - val_accuracy: 0.9081\n",
            "Epoch 11/300\n",
            "43/43 [==============================] - 0s 6ms/step - loss: 0.2621 - accuracy: 0.9254 - val_loss: 0.3124 - val_accuracy: 0.9081\n",
            "Epoch 12/300\n",
            "43/43 [==============================] - 0s 6ms/step - loss: 0.2563 - accuracy: 0.9276 - val_loss: 0.3165 - val_accuracy: 0.9081\n",
            "Epoch 13/300\n",
            "43/43 [==============================] - 0s 7ms/step - loss: 0.2559 - accuracy: 0.9276 - val_loss: 0.3163 - val_accuracy: 0.9081\n",
            "Epoch 14/300\n",
            "43/43 [==============================] - 0s 7ms/step - loss: 0.2585 - accuracy: 0.9284 - val_loss: 0.3026 - val_accuracy: 0.9081\n",
            "Epoch 15/300\n",
            "43/43 [==============================] - 0s 6ms/step - loss: 0.2515 - accuracy: 0.9269 - val_loss: 0.3168 - val_accuracy: 0.9081\n",
            "Epoch 16/300\n",
            "43/43 [==============================] - 0s 7ms/step - loss: 0.2544 - accuracy: 0.9284 - val_loss: 0.3047 - val_accuracy: 0.9081\n",
            "Epoch 17/300\n",
            "43/43 [==============================] - 0s 7ms/step - loss: 0.2543 - accuracy: 0.9276 - val_loss: 0.3135 - val_accuracy: 0.9081\n",
            "Epoch 18/300\n",
            "43/43 [==============================] - 0s 6ms/step - loss: 0.2538 - accuracy: 0.9276 - val_loss: 0.3107 - val_accuracy: 0.9081\n",
            "Epoch 19/300\n",
            "43/43 [==============================] - 0s 7ms/step - loss: 0.2525 - accuracy: 0.9288 - val_loss: 0.3231 - val_accuracy: 0.9081\n",
            "Epoch 20/300\n",
            "43/43 [==============================] - 0s 7ms/step - loss: 0.2510 - accuracy: 0.9272 - val_loss: 0.3093 - val_accuracy: 0.9081\n",
            "Epoch 21/300\n",
            "43/43 [==============================] - 0s 7ms/step - loss: 0.2515 - accuracy: 0.9284 - val_loss: 0.3016 - val_accuracy: 0.9081\n",
            "Epoch 22/300\n",
            "43/43 [==============================] - 0s 6ms/step - loss: 0.2467 - accuracy: 0.9276 - val_loss: 0.3130 - val_accuracy: 0.9081\n",
            "Epoch 23/300\n",
            "43/43 [==============================] - 0s 6ms/step - loss: 0.2497 - accuracy: 0.9261 - val_loss: 0.3172 - val_accuracy: 0.9081\n",
            "Epoch 24/300\n",
            "43/43 [==============================] - 0s 6ms/step - loss: 0.2547 - accuracy: 0.9272 - val_loss: 0.3007 - val_accuracy: 0.9081\n",
            "Epoch 25/300\n",
            "43/43 [==============================] - 0s 7ms/step - loss: 0.2461 - accuracy: 0.9280 - val_loss: 0.3067 - val_accuracy: 0.9081\n",
            "Epoch 26/300\n",
            "43/43 [==============================] - 0s 6ms/step - loss: 0.2512 - accuracy: 0.9276 - val_loss: 0.3074 - val_accuracy: 0.9081\n",
            "Epoch 27/300\n",
            "43/43 [==============================] - 0s 7ms/step - loss: 0.2518 - accuracy: 0.9288 - val_loss: 0.3066 - val_accuracy: 0.9081\n",
            "Epoch 28/300\n",
            "43/43 [==============================] - 0s 6ms/step - loss: 0.2513 - accuracy: 0.9280 - val_loss: 0.3153 - val_accuracy: 0.9081\n",
            "Epoch 29/300\n",
            "43/43 [==============================] - 0s 6ms/step - loss: 0.2474 - accuracy: 0.9276 - val_loss: 0.3092 - val_accuracy: 0.9081\n",
            "Epoch 30/300\n",
            "43/43 [==============================] - 0s 7ms/step - loss: 0.2494 - accuracy: 0.9280 - val_loss: 0.3055 - val_accuracy: 0.9081\n",
            "Epoch 31/300\n",
            "43/43 [==============================] - 0s 7ms/step - loss: 0.2465 - accuracy: 0.9284 - val_loss: 0.3118 - val_accuracy: 0.9081\n",
            "Epoch 32/300\n",
            "43/43 [==============================] - 0s 6ms/step - loss: 0.2472 - accuracy: 0.9284 - val_loss: 0.2998 - val_accuracy: 0.9081\n",
            "Epoch 33/300\n",
            "43/43 [==============================] - 0s 6ms/step - loss: 0.2485 - accuracy: 0.9280 - val_loss: 0.3026 - val_accuracy: 0.9081\n",
            "Epoch 34/300\n",
            "43/43 [==============================] - 0s 8ms/step - loss: 0.2466 - accuracy: 0.9288 - val_loss: 0.3137 - val_accuracy: 0.9081\n",
            "Epoch 35/300\n",
            "43/43 [==============================] - 0s 9ms/step - loss: 0.2509 - accuracy: 0.9288 - val_loss: 0.3055 - val_accuracy: 0.9081\n",
            "Epoch 36/300\n",
            "43/43 [==============================] - 0s 9ms/step - loss: 0.2511 - accuracy: 0.9284 - val_loss: 0.3052 - val_accuracy: 0.9081\n",
            "Epoch 37/300\n",
            "43/43 [==============================] - 0s 10ms/step - loss: 0.2493 - accuracy: 0.9284 - val_loss: 0.3042 - val_accuracy: 0.9081\n",
            "Epoch 38/300\n",
            "43/43 [==============================] - 0s 10ms/step - loss: 0.2452 - accuracy: 0.9284 - val_loss: 0.3050 - val_accuracy: 0.9081\n",
            "Epoch 39/300\n",
            "43/43 [==============================] - 0s 10ms/step - loss: 0.2408 - accuracy: 0.9284 - val_loss: 0.2999 - val_accuracy: 0.9081\n",
            "Epoch 40/300\n",
            "43/43 [==============================] - 0s 9ms/step - loss: 0.2463 - accuracy: 0.9272 - val_loss: 0.2987 - val_accuracy: 0.9081\n",
            "Epoch 41/300\n",
            "43/43 [==============================] - 0s 6ms/step - loss: 0.2465 - accuracy: 0.9288 - val_loss: 0.3052 - val_accuracy: 0.9081\n",
            "Epoch 42/300\n",
            "43/43 [==============================] - 0s 6ms/step - loss: 0.2459 - accuracy: 0.9284 - val_loss: 0.3018 - val_accuracy: 0.9081\n",
            "Epoch 43/300\n",
            "43/43 [==============================] - 0s 6ms/step - loss: 0.2476 - accuracy: 0.9284 - val_loss: 0.3044 - val_accuracy: 0.9081\n",
            "Epoch 44/300\n",
            "43/43 [==============================] - 0s 7ms/step - loss: 0.2459 - accuracy: 0.9284 - val_loss: 0.3058 - val_accuracy: 0.9081\n",
            "Epoch 45/300\n",
            "43/43 [==============================] - 0s 7ms/step - loss: 0.2422 - accuracy: 0.9284 - val_loss: 0.3020 - val_accuracy: 0.9081\n",
            "Epoch 46/300\n",
            "43/43 [==============================] - 0s 7ms/step - loss: 0.2483 - accuracy: 0.9291 - val_loss: 0.3002 - val_accuracy: 0.9081\n",
            "Epoch 47/300\n",
            "43/43 [==============================] - 0s 6ms/step - loss: 0.2453 - accuracy: 0.9288 - val_loss: 0.3043 - val_accuracy: 0.9081\n",
            "Epoch 48/300\n",
            "43/43 [==============================] - 0s 7ms/step - loss: 0.2436 - accuracy: 0.9280 - val_loss: 0.2942 - val_accuracy: 0.9081\n",
            "Epoch 49/300\n",
            "43/43 [==============================] - 0s 6ms/step - loss: 0.2443 - accuracy: 0.9291 - val_loss: 0.2956 - val_accuracy: 0.9081\n",
            "Epoch 50/300\n",
            "43/43 [==============================] - 0s 7ms/step - loss: 0.2436 - accuracy: 0.9288 - val_loss: 0.2967 - val_accuracy: 0.9081\n",
            "Epoch 51/300\n",
            "43/43 [==============================] - 0s 7ms/step - loss: 0.2491 - accuracy: 0.9288 - val_loss: 0.2973 - val_accuracy: 0.9081\n",
            "Epoch 52/300\n",
            "43/43 [==============================] - 0s 8ms/step - loss: 0.2477 - accuracy: 0.9288 - val_loss: 0.2970 - val_accuracy: 0.9081\n",
            "Epoch 53/300\n",
            "43/43 [==============================] - 0s 7ms/step - loss: 0.2457 - accuracy: 0.9288 - val_loss: 0.3007 - val_accuracy: 0.9081\n",
            "Epoch 54/300\n",
            "43/43 [==============================] - 0s 6ms/step - loss: 0.2435 - accuracy: 0.9288 - val_loss: 0.3035 - val_accuracy: 0.9081\n",
            "Epoch 55/300\n",
            "43/43 [==============================] - 0s 7ms/step - loss: 0.2471 - accuracy: 0.9284 - val_loss: 0.3078 - val_accuracy: 0.9081\n",
            "Epoch 56/300\n",
            "43/43 [==============================] - 0s 6ms/step - loss: 0.2457 - accuracy: 0.9284 - val_loss: 0.2981 - val_accuracy: 0.9081\n",
            "Epoch 57/300\n",
            "43/43 [==============================] - 0s 6ms/step - loss: 0.2449 - accuracy: 0.9284 - val_loss: 0.3015 - val_accuracy: 0.9081\n",
            "Epoch 58/300\n",
            "43/43 [==============================] - 0s 6ms/step - loss: 0.2415 - accuracy: 0.9284 - val_loss: 0.3014 - val_accuracy: 0.9081\n",
            "Epoch 59/300\n",
            "43/43 [==============================] - 0s 6ms/step - loss: 0.2499 - accuracy: 0.9288 - val_loss: 0.2967 - val_accuracy: 0.9081\n",
            "Epoch 60/300\n",
            "43/43 [==============================] - 0s 7ms/step - loss: 0.2437 - accuracy: 0.9288 - val_loss: 0.3021 - val_accuracy: 0.9081\n",
            "Epoch 61/300\n",
            "43/43 [==============================] - 0s 6ms/step - loss: 0.2454 - accuracy: 0.9288 - val_loss: 0.2992 - val_accuracy: 0.9081\n",
            "Epoch 62/300\n",
            "43/43 [==============================] - 0s 6ms/step - loss: 0.2463 - accuracy: 0.9284 - val_loss: 0.3008 - val_accuracy: 0.9081\n",
            "Epoch 63/300\n",
            "43/43 [==============================] - 0s 7ms/step - loss: 0.2437 - accuracy: 0.9288 - val_loss: 0.3020 - val_accuracy: 0.9081\n",
            "Epoch 64/300\n",
            "43/43 [==============================] - 0s 7ms/step - loss: 0.2421 - accuracy: 0.9288 - val_loss: 0.2962 - val_accuracy: 0.9081\n",
            "Epoch 65/300\n",
            "43/43 [==============================] - 0s 6ms/step - loss: 0.2434 - accuracy: 0.9291 - val_loss: 0.2977 - val_accuracy: 0.9081\n",
            "Epoch 66/300\n",
            "43/43 [==============================] - 0s 6ms/step - loss: 0.2457 - accuracy: 0.9288 - val_loss: 0.2947 - val_accuracy: 0.9081\n",
            "Epoch 67/300\n",
            "43/43 [==============================] - 0s 7ms/step - loss: 0.2450 - accuracy: 0.9280 - val_loss: 0.3054 - val_accuracy: 0.9081\n",
            "Epoch 68/300\n",
            "43/43 [==============================] - 0s 6ms/step - loss: 0.2437 - accuracy: 0.9288 - val_loss: 0.3033 - val_accuracy: 0.9081\n",
            "Epoch 69/300\n",
            "43/43 [==============================] - 0s 7ms/step - loss: 0.2464 - accuracy: 0.9291 - val_loss: 0.3027 - val_accuracy: 0.9081\n",
            "Epoch 70/300\n",
            "43/43 [==============================] - 0s 7ms/step - loss: 0.2485 - accuracy: 0.9284 - val_loss: 0.3050 - val_accuracy: 0.9081\n",
            "Epoch 71/300\n",
            "43/43 [==============================] - 0s 10ms/step - loss: 0.2425 - accuracy: 0.9288 - val_loss: 0.3064 - val_accuracy: 0.9081\n",
            "Epoch 72/300\n",
            "43/43 [==============================] - 0s 10ms/step - loss: 0.2441 - accuracy: 0.9288 - val_loss: 0.3034 - val_accuracy: 0.9081\n",
            "Epoch 73/300\n",
            "43/43 [==============================] - 0s 9ms/step - loss: 0.2452 - accuracy: 0.9284 - val_loss: 0.2950 - val_accuracy: 0.9081\n",
            "Epoch 74/300\n",
            "43/43 [==============================] - 0s 9ms/step - loss: 0.2437 - accuracy: 0.9288 - val_loss: 0.3012 - val_accuracy: 0.9081\n",
            "Epoch 75/300\n",
            "43/43 [==============================] - 0s 10ms/step - loss: 0.2402 - accuracy: 0.9288 - val_loss: 0.2985 - val_accuracy: 0.9081\n",
            "Epoch 76/300\n",
            "43/43 [==============================] - 0s 10ms/step - loss: 0.2410 - accuracy: 0.9288 - val_loss: 0.3000 - val_accuracy: 0.9081\n",
            "Epoch 77/300\n",
            "43/43 [==============================] - 0s 10ms/step - loss: 0.2435 - accuracy: 0.9288 - val_loss: 0.2975 - val_accuracy: 0.9081\n",
            "Epoch 78/300\n",
            "43/43 [==============================] - 0s 10ms/step - loss: 0.2459 - accuracy: 0.9288 - val_loss: 0.3001 - val_accuracy: 0.9081\n",
            "Epoch 78: early stopping\n"
          ]
        },
        {
          "output_type": "execute_result",
          "data": {
            "text/plain": [
              "<keras.callbacks.History at 0x7f185bb77d90>"
            ]
          },
          "metadata": {},
          "execution_count": 77
        }
      ]
    },
    {
      "cell_type": "code",
      "source": [
        "lossdf=pd.DataFrame(ann.history.history)\n",
        "lossdf.head()"
      ],
      "metadata": {
        "colab": {
          "base_uri": "https://localhost:8080/",
          "height": 206
        },
        "id": "ul30pBY07ndc",
        "outputId": "d780789d-72d2-401c-9d36-f38c2e0ff599"
      },
      "execution_count": 78,
      "outputs": [
        {
          "output_type": "execute_result",
          "data": {
            "text/plain": [
              "       loss  accuracy  val_loss  val_accuracy\n",
              "0  0.504230  0.768473  0.340595      0.881625\n",
              "1  0.308892  0.901857  0.308808      0.908127\n",
              "2  0.281442  0.922698  0.315702      0.908127\n",
              "3  0.264894  0.924972  0.313650      0.908127\n",
              "4  0.263734  0.924972  0.325444      0.908127"
            ],
            "text/html": [
              "\n",
              "  <div id=\"df-11837f7c-d2fc-4275-b27f-e6d4bf270d72\">\n",
              "    <div class=\"colab-df-container\">\n",
              "      <div>\n",
              "<style scoped>\n",
              "    .dataframe tbody tr th:only-of-type {\n",
              "        vertical-align: middle;\n",
              "    }\n",
              "\n",
              "    .dataframe tbody tr th {\n",
              "        vertical-align: top;\n",
              "    }\n",
              "\n",
              "    .dataframe thead th {\n",
              "        text-align: right;\n",
              "    }\n",
              "</style>\n",
              "<table border=\"1\" class=\"dataframe\">\n",
              "  <thead>\n",
              "    <tr style=\"text-align: right;\">\n",
              "      <th></th>\n",
              "      <th>loss</th>\n",
              "      <th>accuracy</th>\n",
              "      <th>val_loss</th>\n",
              "      <th>val_accuracy</th>\n",
              "    </tr>\n",
              "  </thead>\n",
              "  <tbody>\n",
              "    <tr>\n",
              "      <th>0</th>\n",
              "      <td>0.504230</td>\n",
              "      <td>0.768473</td>\n",
              "      <td>0.340595</td>\n",
              "      <td>0.881625</td>\n",
              "    </tr>\n",
              "    <tr>\n",
              "      <th>1</th>\n",
              "      <td>0.308892</td>\n",
              "      <td>0.901857</td>\n",
              "      <td>0.308808</td>\n",
              "      <td>0.908127</td>\n",
              "    </tr>\n",
              "    <tr>\n",
              "      <th>2</th>\n",
              "      <td>0.281442</td>\n",
              "      <td>0.922698</td>\n",
              "      <td>0.315702</td>\n",
              "      <td>0.908127</td>\n",
              "    </tr>\n",
              "    <tr>\n",
              "      <th>3</th>\n",
              "      <td>0.264894</td>\n",
              "      <td>0.924972</td>\n",
              "      <td>0.313650</td>\n",
              "      <td>0.908127</td>\n",
              "    </tr>\n",
              "    <tr>\n",
              "      <th>4</th>\n",
              "      <td>0.263734</td>\n",
              "      <td>0.924972</td>\n",
              "      <td>0.325444</td>\n",
              "      <td>0.908127</td>\n",
              "    </tr>\n",
              "  </tbody>\n",
              "</table>\n",
              "</div>\n",
              "      <button class=\"colab-df-convert\" onclick=\"convertToInteractive('df-11837f7c-d2fc-4275-b27f-e6d4bf270d72')\"\n",
              "              title=\"Convert this dataframe to an interactive table.\"\n",
              "              style=\"display:none;\">\n",
              "        \n",
              "  <svg xmlns=\"http://www.w3.org/2000/svg\" height=\"24px\"viewBox=\"0 0 24 24\"\n",
              "       width=\"24px\">\n",
              "    <path d=\"M0 0h24v24H0V0z\" fill=\"none\"/>\n",
              "    <path d=\"M18.56 5.44l.94 2.06.94-2.06 2.06-.94-2.06-.94-.94-2.06-.94 2.06-2.06.94zm-11 1L8.5 8.5l.94-2.06 2.06-.94-2.06-.94L8.5 2.5l-.94 2.06-2.06.94zm10 10l.94 2.06.94-2.06 2.06-.94-2.06-.94-.94-2.06-.94 2.06-2.06.94z\"/><path d=\"M17.41 7.96l-1.37-1.37c-.4-.4-.92-.59-1.43-.59-.52 0-1.04.2-1.43.59L10.3 9.45l-7.72 7.72c-.78.78-.78 2.05 0 2.83L4 21.41c.39.39.9.59 1.41.59.51 0 1.02-.2 1.41-.59l7.78-7.78 2.81-2.81c.8-.78.8-2.07 0-2.86zM5.41 20L4 18.59l7.72-7.72 1.47 1.35L5.41 20z\"/>\n",
              "  </svg>\n",
              "      </button>\n",
              "      \n",
              "  <style>\n",
              "    .colab-df-container {\n",
              "      display:flex;\n",
              "      flex-wrap:wrap;\n",
              "      gap: 12px;\n",
              "    }\n",
              "\n",
              "    .colab-df-convert {\n",
              "      background-color: #E8F0FE;\n",
              "      border: none;\n",
              "      border-radius: 50%;\n",
              "      cursor: pointer;\n",
              "      display: none;\n",
              "      fill: #1967D2;\n",
              "      height: 32px;\n",
              "      padding: 0 0 0 0;\n",
              "      width: 32px;\n",
              "    }\n",
              "\n",
              "    .colab-df-convert:hover {\n",
              "      background-color: #E2EBFA;\n",
              "      box-shadow: 0px 1px 2px rgba(60, 64, 67, 0.3), 0px 1px 3px 1px rgba(60, 64, 67, 0.15);\n",
              "      fill: #174EA6;\n",
              "    }\n",
              "\n",
              "    [theme=dark] .colab-df-convert {\n",
              "      background-color: #3B4455;\n",
              "      fill: #D2E3FC;\n",
              "    }\n",
              "\n",
              "    [theme=dark] .colab-df-convert:hover {\n",
              "      background-color: #434B5C;\n",
              "      box-shadow: 0px 1px 3px 1px rgba(0, 0, 0, 0.15);\n",
              "      filter: drop-shadow(0px 1px 2px rgba(0, 0, 0, 0.3));\n",
              "      fill: #FFFFFF;\n",
              "    }\n",
              "  </style>\n",
              "\n",
              "      <script>\n",
              "        const buttonEl =\n",
              "          document.querySelector('#df-11837f7c-d2fc-4275-b27f-e6d4bf270d72 button.colab-df-convert');\n",
              "        buttonEl.style.display =\n",
              "          google.colab.kernel.accessAllowed ? 'block' : 'none';\n",
              "\n",
              "        async function convertToInteractive(key) {\n",
              "          const element = document.querySelector('#df-11837f7c-d2fc-4275-b27f-e6d4bf270d72');\n",
              "          const dataTable =\n",
              "            await google.colab.kernel.invokeFunction('convertToInteractive',\n",
              "                                                     [key], {});\n",
              "          if (!dataTable) return;\n",
              "\n",
              "          const docLinkHtml = 'Like what you see? Visit the ' +\n",
              "            '<a target=\"_blank\" href=https://colab.research.google.com/notebooks/data_table.ipynb>data table notebook</a>'\n",
              "            + ' to learn more about interactive tables.';\n",
              "          element.innerHTML = '';\n",
              "          dataTable['output_type'] = 'display_data';\n",
              "          await google.colab.output.renderOutput(dataTable, element);\n",
              "          const docLink = document.createElement('div');\n",
              "          docLink.innerHTML = docLinkHtml;\n",
              "          element.appendChild(docLink);\n",
              "        }\n",
              "      </script>\n",
              "    </div>\n",
              "  </div>\n",
              "  "
            ]
          },
          "metadata": {},
          "execution_count": 78
        }
      ]
    },
    {
      "cell_type": "code",
      "source": [
        "lossdf.plot()"
      ],
      "metadata": {
        "colab": {
          "base_uri": "https://localhost:8080/",
          "height": 448
        },
        "id": "UNtu4iQh7sGL",
        "outputId": "fbd00122-4028-40d2-ba21-f0a7b43a3ec5"
      },
      "execution_count": 79,
      "outputs": [
        {
          "output_type": "execute_result",
          "data": {
            "text/plain": [
              "<Axes: >"
            ]
          },
          "metadata": {},
          "execution_count": 79
        },
        {
          "output_type": "display_data",
          "data": {
            "text/plain": [
              "<Figure size 640x480 with 1 Axes>"
            ],
            "image/png": "[encoded data removed]"
          },
          "metadata": {}
        }
      ]
    },
    {
      "cell_type": "code",
      "source": [
        "ypred=ann.predict(xtest)"
      ],
      "metadata": {
        "colab": {
          "base_uri": "https://localhost:8080/"
        },
        "id": "rQvCSyRu7uMc",
        "outputId": "8379af10-5b92-4ad8-ce8f-71b1c11f5f67"
      },
      "execution_count": 82,
      "outputs": [
        {
          "output_type": "stream",
          "name": "stdout",
          "text": [
            "36/36 [==============================] - 0s 5ms/step\n"
          ]
        }
      ]
    },
    {
      "cell_type": "code",
      "source": [
        "dic={\"Actual Y\":ytest,\"Predicted Y\":ypred.flatten()}\n",
        "df1=pd.DataFrame(dic)"
      ],
      "metadata": {
        "id": "HgeVML0---zs"
      },
      "execution_count": 84,
      "outputs": []
    },
    {
      "cell_type": "code",
      "source": [
        "sns.scatterplot(x=\"Actual Y\",y=\"Predicted Y\",data=df1)"
      ],
      "metadata": {
        "colab": {
          "base_uri": "https://localhost:8080/",
          "height": 467
        },
        "id": "D7m97wuE_MH-",
        "outputId": "e5de8d47-2a43-4dec-f2a0-9f5a1903fd51"
      },
      "execution_count": 85,
      "outputs": [
        {
          "output_type": "execute_result",
          "data": {
            "text/plain": [
              "<Axes: xlabel='Actual Y', ylabel='Predicted Y'>"
            ]
          },
          "metadata": {},
          "execution_count": 85
        },
        {
          "output_type": "display_data",
          "data": {
            "text/plain": [
              "<Figure size 640x480 with 1 Axes>"
            ],
            "image/png": "[encoded data removed]"
          },
          "metadata": {}
        }
      ]
    },
    {
      "cell_type": "code",
      "source": [],
      "metadata": {
        "id": "lUePCTMi_YmW"
      },
      "execution_count": null,
      "outputs": []
    }
  ]
}